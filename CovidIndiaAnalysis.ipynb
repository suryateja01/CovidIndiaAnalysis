{
  "nbformat": 4,
  "nbformat_minor": 0,
  "metadata": {
    "colab": {
      "name": "CovidIndiaAnalysis.ipynb",
      "provenance": [],
      "collapsed_sections": []
    },
    "kernelspec": {
      "name": "python3",
      "display_name": "Python 3"
    }
  },
  "cells": [
    {
      "cell_type": "code",
      "metadata": {
        "id": "otjUl_Zg8nwC",
        "colab_type": "code",
        "colab": {}
      },
      "source": [
        "import requests\n",
        "import json\n",
        "import pandas as pd\n",
        "import matplotlib.pyplot as plt\n",
        "import seaborn as sns\n",
        "%matplotlib inline"
      ],
      "execution_count": 176,
      "outputs": []
    },
    {
      "cell_type": "code",
      "metadata": {
        "id": "Trv_xauQFcJc",
        "colab_type": "code",
        "colab": {}
      },
      "source": [
        "def data(state):\n",
        "  res = requests.get(\"https://api.covid19india.org/v4/timeseries.json\")\n",
        "  df = pd.read_json(res.text)\n",
        "  ndf = pd.DataFrame(df[state].loc['dates']).transpose()['delta']\n",
        "  idf = pd.DataFrame(ndf)\n",
        "  idf.index.name = \"Date\"\n",
        "  idf = idf.dropna()\n",
        "  l = len(idf.index)\n",
        "  sdf = pd.DataFrame(columns = [\"Date\", \"Confirmed\", \"Deceased\", \"Recovered\", \"Tested\"])\n",
        "  for i in range(0,l):\n",
        "    if \"confirmed\" in idf['delta'][i]:\n",
        "      c = idf['delta'][i][\"confirmed\"]\n",
        "    else:\n",
        "      c = 0\n",
        "    if \"deceased\" in idf['delta'][i]:\n",
        "      d = idf['delta'][i][\"deceased\"]\n",
        "    else:\n",
        "      d = 0\n",
        "    if \"recovered\" in idf['delta'][i]:\n",
        "      r = idf['delta'][i][\"recovered\"]\n",
        "    else:\n",
        "      r = 0\n",
        "    if \"tested\" in idf['delta'][i]:\n",
        "      t = idf['delta'][i][\"tested\"]\n",
        "    else:\n",
        "      t = 0\n",
        "    df2 = {\"Date\": idf.index[i], \"Confirmed\": c, \"Deceased\": d, \"Recovered\": r, \"Tested\": t}\n",
        "    sdf = sdf.append(df2,ignore_index= True)\n",
        "  convert_dict = {'Confirmed': int,\n",
        "                'Deceased' : int,\n",
        "                'Recovered' :int,\n",
        "                'Tested' :int\n",
        "                } \n",
        "\n",
        "  sdf = sdf.astype(convert_dict) \n",
        "  return sdf"
      ],
      "execution_count": 317,
      "outputs": []
    },
    {
      "cell_type": "code",
      "metadata": {
        "id": "XTCxil2dFii1",
        "colab_type": "code",
        "colab": {}
      },
      "source": [
        "def confirmPlot(state):\n",
        "  sdf = data(state)\n",
        "  sns.lineplot(x = \"Date\", y = \"Confirmed\", data=sdf)\n",
        "  plt.show()\n",
        "\n",
        "def deceasedPlot(state):\n",
        "  sdf = data(state)\n",
        "  sns.lineplot(x = \"Date\", y = \"Deceased\", data=sdf)\n",
        "  plt.show()\n",
        "\n",
        "def recoveredPlot(state):\n",
        "  sdf = data(state)\n",
        "  sns.lineplot(x = \"Date\", y = \"Recovered\", data=sdf)\n",
        "  plt.show()"
      ],
      "execution_count": 216,
      "outputs": []
    },
    {
      "cell_type": "code",
      "metadata": {
        "id": "L673LKvYVThV",
        "colab_type": "code",
        "colab": {}
      },
      "source": [
        "def stateRecoveryRate(sdf):\n",
        "  c = sdf.Confirmed.sum()\n",
        "  r = sdf.Recovered.sum()\n",
        "  rate = round((r/c)*100,4)\n",
        "  return rate\n",
        "\n",
        "def stateDeathRate(sdf):\n",
        "  c = sdf.Confirmed.sum()\n",
        "  r = sdf.Deceased.sum()\n",
        "  rate = round((r/c)*100,4)\n",
        "  return rate\n",
        "\n",
        "def latestConfirmationRate(sdf):\n",
        "  lsi = sdf.tail(1)\n",
        "  lsic = lsi.Confirmed.sum()\n",
        "  lsit = lsi.Tested.sum()\n",
        "  if lsit:\n",
        "    lcr = round((lsic/lsit)*100, 4)\n",
        "    return lcr\n",
        "  else:\n",
        "    return \"Couldn't find Due to unavailabilty of latest tests performed in bulletin\"\n",
        "   "
      ],
      "execution_count": 298,
      "outputs": []
    },
    {
      "cell_type": "code",
      "metadata": {
        "id": "hXCCLSSec2Yf",
        "colab_type": "code",
        "colab": {}
      },
      "source": [
        "def latestStateInfo(state):\n",
        "  sdf = data(state)\n",
        "  return sdf.tail(1)\n",
        "\n",
        "def stateInfo(state):\n",
        "  sdf = data(state)\n",
        "  tc = sdf.Confirmed.sum()\n",
        "  tr = sdf.Recovered.sum()\n",
        "  td = sdf.Deceased.sum()\n",
        "  tt = sdf.Tested.sum()\n",
        "  srr = stateRecoveryRate(sdf)\n",
        "  sdr = stateDeathRate(sdf)\n",
        "  lcr = latestConfirmationRate(sdf)\n",
        "  \n",
        "  info = {\"Total Confirmed\" : tc,\n",
        "          \"Total Deceased\" : td,\n",
        "          \"Total Recovered\" : tr,\n",
        "          \"Total Tested\" : tt,\n",
        "          \"State Recovery Rate\" : srr,\n",
        "          \"State Fatality Rate\" : sdr,\n",
        "          \"Latest Confirmation Rate\" : lcr\n",
        "          }\n",
        "  return info"
      ],
      "execution_count": 302,
      "outputs": []
    },
    {
      "cell_type": "markdown",
      "metadata": {
        "id": "EVp6iLTtZ6Fn",
        "colab_type": "text"
      },
      "source": [
        "***State Codes*** - \n",
        "**'AN'** - Andaman and Nicobar Islands\n",
        "**'AP'** - Andhra pradesh\n",
        "**'AR'** - Arunachal Pradesh\n",
        "**'AS'** - Assam\n",
        "**'BR'** - Bihar\n",
        "**'CH'** - Chandigarh\n",
        "**'CT'** - Chattisgarh\n",
        "**'DL'** - Delhi\n",
        "**'DN'** - Dadra and Nagar Haveli and Diu and Daman\n",
        "**'GA'** - Goa\n",
        "**'GJ'** - Gujarat\n",
        "**'HP'** - Himachal Pradesh\n",
        "**'HR'** - Haryana\n",
        "**'JH'** - Jarkhand\n",
        "**'JK'** - Jammu & Kashmir\n",
        "**'KA'** - Karnataka\n",
        "**'KL'** - Kerala\n",
        "**'LA'** - Ladakh\n",
        "**'MH'** - Maharashtra\n",
        "**'ML'** - Meghalaya\n",
        "**'MN'** - Manipur\n",
        "**'MP'** - Madhya Pradesh\n",
        "**'MZ'** - Mizoram\n",
        "**'NL'** - Nagaland\n",
        "**'OR'** - Orissa\n",
        "**'PB'** - Punjab\n",
        "**'PY'** - Pondicherry\n",
        "**'RJ'** - Rajasthan\n",
        "**'SK'** - Sikkim\n",
        "**'TG'** - Telangana\n",
        "**'TN'** - Tamil Nadu\n",
        "**'TR'** - Tripura\n",
        "**'UP'** - Uttar Pradesh\n",
        "**'WB'** - West bangal"
      ]
    },
    {
      "cell_type": "code",
      "metadata": {
        "id": "mWSj9f0KhYao",
        "colab_type": "code",
        "colab": {
          "base_uri": "https://localhost:8080/",
          "height": 139
        },
        "outputId": "76bcfb8b-0801-431b-df7e-22c3a39676f9"
      },
      "source": [
        "stateInfo('PY')"
      ],
      "execution_count": 319,
      "outputs": [
        {
          "output_type": "execute_result",
          "data": {
            "text/plain": [
              "{'Latest Confirmation Rate': \"Could'nt find Due to unavailabilty of latest tests performed in bulletin\",\n",
              " 'State Fatality Rate': 1.5424,\n",
              " 'State Recovery Rate': 59.8644,\n",
              " 'Total Confirmed': 5900,\n",
              " 'Total Deceased': 91,\n",
              " 'Total Recovered': 3532,\n",
              " 'Total Tested': 48748}"
            ]
          },
          "metadata": {
            "tags": []
          },
          "execution_count": 319
        }
      ]
    }
  ]
}